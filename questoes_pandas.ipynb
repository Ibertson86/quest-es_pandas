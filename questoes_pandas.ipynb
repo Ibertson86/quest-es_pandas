{
 "cells": [
  {
   "cell_type": "markdown",
   "metadata": {},
   "source": [
    "# Questão 01"
   ]
  },
  {
   "cell_type": "markdown",
   "metadata": {},
   "source": [
    "### Carregue o dataset \"Iris Dataset\" e desenvolva um código que:"
   ]
  },
  {
   "cell_type": "markdown",
   "metadata": {},
   "source": [
    "#### a - Conte o número de ocorrências de cada espécie na coluna species."
   ]
  },
  {
   "cell_type": "code",
   "execution_count": 2,
   "metadata": {},
   "outputs": [],
   "source": [
    "#importando as bibliotecas\n",
    "import pandas as pd\n",
    "import seaborn as sns\n",
    "import numpy as np"
   ]
  },
  {
   "cell_type": "code",
   "execution_count": 3,
   "metadata": {},
   "outputs": [
    {
     "name": "stdout",
     "output_type": "stream",
     "text": [
      "     sepal_length  sepal_width  petal_length  petal_width    species\n",
      "0             5.1          3.5           1.4          0.2     setosa\n",
      "1             4.9          3.0           1.4          0.2     setosa\n",
      "2             4.7          3.2           1.3          0.2     setosa\n",
      "3             4.6          3.1           1.5          0.2     setosa\n",
      "4             5.0          3.6           1.4          0.2     setosa\n",
      "..            ...          ...           ...          ...        ...\n",
      "145           6.7          3.0           5.2          2.3  virginica\n",
      "146           6.3          2.5           5.0          1.9  virginica\n",
      "147           6.5          3.0           5.2          2.0  virginica\n",
      "148           6.2          3.4           5.4          2.3  virginica\n",
      "149           5.9          3.0           5.1          1.8  virginica\n",
      "\n",
      "[150 rows x 5 columns]\n"
     ]
    }
   ],
   "source": [
    "#carregando o dataset iris com a biblioteca Seaborn\n",
    "iris = sns.load_dataset(\"Iris\")\n",
    "print(iris)"
   ]
  },
  {
   "cell_type": "code",
   "execution_count": 4,
   "metadata": {},
   "outputs": [
    {
     "name": "stdout",
     "output_type": "stream",
     "text": [
      "<class 'pandas.core.frame.DataFrame'>\n",
      "RangeIndex: 150 entries, 0 to 149\n",
      "Data columns (total 5 columns):\n",
      " #   Column        Non-Null Count  Dtype  \n",
      "---  ------        --------------  -----  \n",
      " 0   sepal_length  150 non-null    float64\n",
      " 1   sepal_width   150 non-null    float64\n",
      " 2   petal_length  150 non-null    float64\n",
      " 3   petal_width   150 non-null    float64\n",
      " 4   species       150 non-null    object \n",
      "dtypes: float64(4), object(1)\n",
      "memory usage: 6.0+ KB\n"
     ]
    }
   ],
   "source": [
    "#criando um dataframe com base no dataset carregado\n",
    "iris_pd = pd.DataFrame(iris)\n",
    "iris_pd.info()"
   ]
  },
  {
   "cell_type": "code",
   "execution_count": 5,
   "metadata": {},
   "outputs": [
    {
     "name": "stdout",
     "output_type": "stream",
     "text": [
      "species\n",
      "setosa        50\n",
      "versicolor    50\n",
      "virginica     50\n",
      "Name: count, dtype: int64\n"
     ]
    }
   ],
   "source": [
    "#numero de ocorrências de cada espécie\n",
    "species_counts = iris['species'].value_counts()\n",
    "print(species_counts)"
   ]
  },
  {
   "cell_type": "markdown",
   "metadata": {},
   "source": [
    "#### b - Filtre todas as linhas em que a largura da pétala (petal width) seja maior que a média dessa coluna."
   ]
  },
  {
   "cell_type": "code",
   "execution_count": 8,
   "metadata": {},
   "outputs": [
    {
     "name": "stdout",
     "output_type": "stream",
     "text": [
      "1.1993333333333336\n"
     ]
    }
   ],
   "source": [
    "#tirando a média da coluna petal_width\n",
    "media_petal_width = iris['petal_width'].mean()\n",
    "print(media_petal_width)"
   ]
  },
  {
   "cell_type": "code",
   "execution_count": 9,
   "metadata": {},
   "outputs": [
    {
     "name": "stdout",
     "output_type": "stream",
     "text": [
      "     sepal_length  sepal_width  petal_length  petal_width     species\n",
      "50            7.0          3.2           4.7          1.4  versicolor\n",
      "51            6.4          3.2           4.5          1.5  versicolor\n",
      "52            6.9          3.1           4.9          1.5  versicolor\n",
      "53            5.5          2.3           4.0          1.3  versicolor\n",
      "54            6.5          2.8           4.6          1.5  versicolor\n",
      "..            ...          ...           ...          ...         ...\n",
      "145           6.7          3.0           5.2          2.3   virginica\n",
      "146           6.3          2.5           5.0          1.9   virginica\n",
      "147           6.5          3.0           5.2          2.0   virginica\n",
      "148           6.2          3.4           5.4          2.3   virginica\n",
      "149           5.9          3.0           5.1          1.8   virginica\n",
      "\n",
      "[90 rows x 5 columns]\n"
     ]
    }
   ],
   "source": [
    "#filtrar as linhas onde petal_width é maior que a média\n",
    "linhas_filtradas = iris[iris['petal_width'] > media_petal_width]\n",
    "print(linhas_filtradas)"
   ]
  },
  {
   "cell_type": "markdown",
   "metadata": {},
   "source": [
    "#### c - Crie uma nova coluna chamada Petal_Area, que seja o produto entre petal length e petal width. Retorne o DataFrame final com as modificações."
   ]
  },
  {
   "cell_type": "code",
   "execution_count": 10,
   "metadata": {},
   "outputs": [
    {
     "name": "stdout",
     "output_type": "stream",
     "text": [
      "     sepal_length  sepal_width  petal_length  petal_width    species  \\\n",
      "0             5.1          3.5           1.4          0.2     setosa   \n",
      "1             4.9          3.0           1.4          0.2     setosa   \n",
      "2             4.7          3.2           1.3          0.2     setosa   \n",
      "3             4.6          3.1           1.5          0.2     setosa   \n",
      "4             5.0          3.6           1.4          0.2     setosa   \n",
      "..            ...          ...           ...          ...        ...   \n",
      "145           6.7          3.0           5.2          2.3  virginica   \n",
      "146           6.3          2.5           5.0          1.9  virginica   \n",
      "147           6.5          3.0           5.2          2.0  virginica   \n",
      "148           6.2          3.4           5.4          2.3  virginica   \n",
      "149           5.9          3.0           5.1          1.8  virginica   \n",
      "\n",
      "     petal_area  \n",
      "0          0.28  \n",
      "1          0.28  \n",
      "2          0.26  \n",
      "3          0.30  \n",
      "4          0.28  \n",
      "..          ...  \n",
      "145       11.96  \n",
      "146        9.50  \n",
      "147       10.40  \n",
      "148       12.42  \n",
      "149        9.18  \n",
      "\n",
      "[150 rows x 6 columns]\n"
     ]
    }
   ],
   "source": [
    "#criar a nova coluna Petal_Area\n",
    "iris['petal_area'] = iris['petal_length'] * iris['petal_width']\n",
    "print(iris)"
   ]
  },
  {
   "cell_type": "markdown",
   "metadata": {},
   "source": [
    "# Questão 2"
   ]
  },
  {
   "cell_type": "markdown",
   "metadata": {},
   "source": [
    "## Com o dataset \"Global Superstore Dataset\", escreva um código que:"
   ]
  },
  {
   "cell_type": "markdown",
   "metadata": {},
   "source": [
    "#### a - Agrupe as vendas (Sales) por região (Region) e subcategoria (Sub-Category)."
   ]
  },
  {
   "cell_type": "code",
   "execution_count": 13,
   "metadata": {},
   "outputs": [
    {
     "name": "stdout",
     "output_type": "stream",
     "text": [
      "              Category         City        Country Customer.ID  \\\n",
      "0      Office Supplies  Los Angeles  United States   LS-172304   \n",
      "1      Office Supplies  Los Angeles  United States   MV-174854   \n",
      "2      Office Supplies  Los Angeles  United States   CS-121304   \n",
      "3      Office Supplies  Los Angeles  United States   CS-121304   \n",
      "4      Office Supplies  Los Angeles  United States   AP-109154   \n",
      "...                ...          ...            ...         ...   \n",
      "51285  Office Supplies  Los Angeles  United States   AM-103604   \n",
      "51286  Office Supplies  Los Angeles  United States   AM-103604   \n",
      "51287  Office Supplies  Los Angeles  United States   HR-147704   \n",
      "51288  Office Supplies  Los Angeles  United States   RM-196754   \n",
      "51289  Office Supplies  Los Angeles  United States   FH-143654   \n",
      "\n",
      "          Customer.Name  Discount Market  记录数               Order.Date  \\\n",
      "0      Lycoris Saunders       0.0     US    1  2011-01-07 00:00:00.000   \n",
      "1         Mark Van Huff       0.0     US    1  2011-01-21 00:00:00.000   \n",
      "2          Chad Sievert       0.0     US    1  2011-08-05 00:00:00.000   \n",
      "3          Chad Sievert       0.0     US    1  2011-08-05 00:00:00.000   \n",
      "4        Arthur Prichep       0.0     US    1  2011-09-29 00:00:00.000   \n",
      "...                 ...       ...    ...  ...                      ...   \n",
      "51285    Alice McCarthy       0.2     US    1  2014-12-03 00:00:00.000   \n",
      "51286    Alice McCarthy       0.2     US    1  2014-12-03 00:00:00.000   \n",
      "51287    Hallie Redmond       0.2     US    1  2014-12-18 00:00:00.000   \n",
      "51288     Robert Marley       0.2     US    1  2014-12-25 00:00:00.000   \n",
      "51289      Fred Hopkins       0.2     US    1  2014-12-26 00:00:00.000   \n",
      "\n",
      "             Order.ID  ... Sales      Segment                Ship.Date  \\\n",
      "0      CA-2011-130813  ...    19     Consumer  2011-01-09 00:00:00.000   \n",
      "1      CA-2011-148614  ...    19     Consumer  2011-01-26 00:00:00.000   \n",
      "2      CA-2011-118962  ...    21     Consumer  2011-08-09 00:00:00.000   \n",
      "3      CA-2011-118962  ...   111     Consumer  2011-08-09 00:00:00.000   \n",
      "4      CA-2011-146969  ...     6     Consumer  2011-10-03 00:00:00.000   \n",
      "...               ...  ...   ...          ...                      ...   \n",
      "51285  CA-2014-109701  ...    69    Corporate  2014-12-04 00:00:00.000   \n",
      "51286  CA-2014-109701  ...     9    Corporate  2014-12-04 00:00:00.000   \n",
      "51287  CA-2014-106964  ...    12  Home Office  2014-12-21 00:00:00.000   \n",
      "51288  CA-2014-145219  ...    90  Home Office  2014-12-26 00:00:00.000   \n",
      "51289  CA-2014-121398  ...   154    Corporate  2014-12-30 00:00:00.000   \n",
      "\n",
      "            Ship.Mode  Shipping.Cost       State  Sub.Category  Year  \\\n",
      "0        Second Class           4.37  California         Paper  2011   \n",
      "1      Standard Class           0.94  California         Paper  2011   \n",
      "2      Standard Class           1.81  California         Paper  2011   \n",
      "3      Standard Class           4.59  California         Paper  2011   \n",
      "4      Standard Class           1.32  California         Paper  2011   \n",
      "...               ...            ...         ...           ...   ...   \n",
      "51285        Same Day           5.15  California       Binders  2014   \n",
      "51286        Same Day           0.44  California       Binders  2014   \n",
      "51287     First Class           0.31  California       Binders  2014   \n",
      "51288     First Class          15.95  California       Binders  2014   \n",
      "51289  Standard Class           9.59  California       Binders  2014   \n",
      "\n",
      "             Market2 weeknum  \n",
      "0      North America       2  \n",
      "1      North America       4  \n",
      "2      North America      32  \n",
      "3      North America      32  \n",
      "4      North America      40  \n",
      "...              ...     ...  \n",
      "51285  North America      49  \n",
      "51286  North America      49  \n",
      "51287  North America      51  \n",
      "51288  North America      52  \n",
      "51289  North America      52  \n",
      "\n",
      "[51290 rows x 27 columns]\n"
     ]
    }
   ],
   "source": [
    "#carregando o dataset em csv\n",
    "sales = pd.read_csv(\"superstore.csv\")\n",
    "print(sales)"
   ]
  },
  {
   "cell_type": "code",
   "execution_count": 14,
   "metadata": {},
   "outputs": [
    {
     "data": {
      "text/html": [
       "<div>\n",
       "<style scoped>\n",
       "    .dataframe tbody tr th:only-of-type {\n",
       "        vertical-align: middle;\n",
       "    }\n",
       "\n",
       "    .dataframe tbody tr th {\n",
       "        vertical-align: top;\n",
       "    }\n",
       "\n",
       "    .dataframe thead th {\n",
       "        text-align: right;\n",
       "    }\n",
       "</style>\n",
       "<table border=\"1\" class=\"dataframe\">\n",
       "  <thead>\n",
       "    <tr style=\"text-align: right;\">\n",
       "      <th></th>\n",
       "      <th>Category</th>\n",
       "      <th>City</th>\n",
       "      <th>Country</th>\n",
       "      <th>Customer.ID</th>\n",
       "      <th>Customer.Name</th>\n",
       "      <th>Discount</th>\n",
       "      <th>Market</th>\n",
       "      <th>记录数</th>\n",
       "      <th>Order.Date</th>\n",
       "      <th>Order.ID</th>\n",
       "      <th>...</th>\n",
       "      <th>Sales</th>\n",
       "      <th>Segment</th>\n",
       "      <th>Ship.Date</th>\n",
       "      <th>Ship.Mode</th>\n",
       "      <th>Shipping.Cost</th>\n",
       "      <th>State</th>\n",
       "      <th>Sub.Category</th>\n",
       "      <th>Year</th>\n",
       "      <th>Market2</th>\n",
       "      <th>weeknum</th>\n",
       "    </tr>\n",
       "  </thead>\n",
       "  <tbody>\n",
       "    <tr>\n",
       "      <th>0</th>\n",
       "      <td>Office Supplies</td>\n",
       "      <td>Los Angeles</td>\n",
       "      <td>United States</td>\n",
       "      <td>LS-172304</td>\n",
       "      <td>Lycoris Saunders</td>\n",
       "      <td>0.0</td>\n",
       "      <td>US</td>\n",
       "      <td>1</td>\n",
       "      <td>2011-01-07 00:00:00.000</td>\n",
       "      <td>CA-2011-130813</td>\n",
       "      <td>...</td>\n",
       "      <td>19</td>\n",
       "      <td>Consumer</td>\n",
       "      <td>2011-01-09 00:00:00.000</td>\n",
       "      <td>Second Class</td>\n",
       "      <td>4.37</td>\n",
       "      <td>California</td>\n",
       "      <td>Paper</td>\n",
       "      <td>2011</td>\n",
       "      <td>North America</td>\n",
       "      <td>2</td>\n",
       "    </tr>\n",
       "    <tr>\n",
       "      <th>1</th>\n",
       "      <td>Office Supplies</td>\n",
       "      <td>Los Angeles</td>\n",
       "      <td>United States</td>\n",
       "      <td>MV-174854</td>\n",
       "      <td>Mark Van Huff</td>\n",
       "      <td>0.0</td>\n",
       "      <td>US</td>\n",
       "      <td>1</td>\n",
       "      <td>2011-01-21 00:00:00.000</td>\n",
       "      <td>CA-2011-148614</td>\n",
       "      <td>...</td>\n",
       "      <td>19</td>\n",
       "      <td>Consumer</td>\n",
       "      <td>2011-01-26 00:00:00.000</td>\n",
       "      <td>Standard Class</td>\n",
       "      <td>0.94</td>\n",
       "      <td>California</td>\n",
       "      <td>Paper</td>\n",
       "      <td>2011</td>\n",
       "      <td>North America</td>\n",
       "      <td>4</td>\n",
       "    </tr>\n",
       "    <tr>\n",
       "      <th>2</th>\n",
       "      <td>Office Supplies</td>\n",
       "      <td>Los Angeles</td>\n",
       "      <td>United States</td>\n",
       "      <td>CS-121304</td>\n",
       "      <td>Chad Sievert</td>\n",
       "      <td>0.0</td>\n",
       "      <td>US</td>\n",
       "      <td>1</td>\n",
       "      <td>2011-08-05 00:00:00.000</td>\n",
       "      <td>CA-2011-118962</td>\n",
       "      <td>...</td>\n",
       "      <td>21</td>\n",
       "      <td>Consumer</td>\n",
       "      <td>2011-08-09 00:00:00.000</td>\n",
       "      <td>Standard Class</td>\n",
       "      <td>1.81</td>\n",
       "      <td>California</td>\n",
       "      <td>Paper</td>\n",
       "      <td>2011</td>\n",
       "      <td>North America</td>\n",
       "      <td>32</td>\n",
       "    </tr>\n",
       "    <tr>\n",
       "      <th>3</th>\n",
       "      <td>Office Supplies</td>\n",
       "      <td>Los Angeles</td>\n",
       "      <td>United States</td>\n",
       "      <td>CS-121304</td>\n",
       "      <td>Chad Sievert</td>\n",
       "      <td>0.0</td>\n",
       "      <td>US</td>\n",
       "      <td>1</td>\n",
       "      <td>2011-08-05 00:00:00.000</td>\n",
       "      <td>CA-2011-118962</td>\n",
       "      <td>...</td>\n",
       "      <td>111</td>\n",
       "      <td>Consumer</td>\n",
       "      <td>2011-08-09 00:00:00.000</td>\n",
       "      <td>Standard Class</td>\n",
       "      <td>4.59</td>\n",
       "      <td>California</td>\n",
       "      <td>Paper</td>\n",
       "      <td>2011</td>\n",
       "      <td>North America</td>\n",
       "      <td>32</td>\n",
       "    </tr>\n",
       "    <tr>\n",
       "      <th>4</th>\n",
       "      <td>Office Supplies</td>\n",
       "      <td>Los Angeles</td>\n",
       "      <td>United States</td>\n",
       "      <td>AP-109154</td>\n",
       "      <td>Arthur Prichep</td>\n",
       "      <td>0.0</td>\n",
       "      <td>US</td>\n",
       "      <td>1</td>\n",
       "      <td>2011-09-29 00:00:00.000</td>\n",
       "      <td>CA-2011-146969</td>\n",
       "      <td>...</td>\n",
       "      <td>6</td>\n",
       "      <td>Consumer</td>\n",
       "      <td>2011-10-03 00:00:00.000</td>\n",
       "      <td>Standard Class</td>\n",
       "      <td>1.32</td>\n",
       "      <td>California</td>\n",
       "      <td>Paper</td>\n",
       "      <td>2011</td>\n",
       "      <td>North America</td>\n",
       "      <td>40</td>\n",
       "    </tr>\n",
       "  </tbody>\n",
       "</table>\n",
       "<p>5 rows × 27 columns</p>\n",
       "</div>"
      ],
      "text/plain": [
       "          Category         City        Country Customer.ID     Customer.Name  \\\n",
       "0  Office Supplies  Los Angeles  United States   LS-172304  Lycoris Saunders   \n",
       "1  Office Supplies  Los Angeles  United States   MV-174854     Mark Van Huff   \n",
       "2  Office Supplies  Los Angeles  United States   CS-121304      Chad Sievert   \n",
       "3  Office Supplies  Los Angeles  United States   CS-121304      Chad Sievert   \n",
       "4  Office Supplies  Los Angeles  United States   AP-109154    Arthur Prichep   \n",
       "\n",
       "   Discount Market  记录数               Order.Date        Order.ID  ... Sales  \\\n",
       "0       0.0     US    1  2011-01-07 00:00:00.000  CA-2011-130813  ...    19   \n",
       "1       0.0     US    1  2011-01-21 00:00:00.000  CA-2011-148614  ...    19   \n",
       "2       0.0     US    1  2011-08-05 00:00:00.000  CA-2011-118962  ...    21   \n",
       "3       0.0     US    1  2011-08-05 00:00:00.000  CA-2011-118962  ...   111   \n",
       "4       0.0     US    1  2011-09-29 00:00:00.000  CA-2011-146969  ...     6   \n",
       "\n",
       "    Segment                Ship.Date       Ship.Mode  Shipping.Cost  \\\n",
       "0  Consumer  2011-01-09 00:00:00.000    Second Class           4.37   \n",
       "1  Consumer  2011-01-26 00:00:00.000  Standard Class           0.94   \n",
       "2  Consumer  2011-08-09 00:00:00.000  Standard Class           1.81   \n",
       "3  Consumer  2011-08-09 00:00:00.000  Standard Class           4.59   \n",
       "4  Consumer  2011-10-03 00:00:00.000  Standard Class           1.32   \n",
       "\n",
       "        State  Sub.Category  Year        Market2 weeknum  \n",
       "0  California         Paper  2011  North America       2  \n",
       "1  California         Paper  2011  North America       4  \n",
       "2  California         Paper  2011  North America      32  \n",
       "3  California         Paper  2011  North America      32  \n",
       "4  California         Paper  2011  North America      40  \n",
       "\n",
       "[5 rows x 27 columns]"
      ]
     },
     "execution_count": 14,
     "metadata": {},
     "output_type": "execute_result"
    }
   ],
   "source": [
    "#transformando em um dataframe\n",
    "sales_pd = pd.DataFrame(sales)\n",
    "sales_pd.head()"
   ]
  },
  {
   "cell_type": "code",
   "execution_count": 18,
   "metadata": {},
   "outputs": [
    {
     "data": {
      "text/plain": [
       "Index(['Category', 'City', 'Country', 'Customer.ID', 'Customer.Name',\n",
       "       'Discount', 'Market', '记录数', 'Order.Date', 'Order.ID', 'Order.Priority',\n",
       "       'Product.ID', 'Product.Name', 'Profit', 'Quantity', 'Region', 'Row.ID',\n",
       "       'Sales', 'Segment', 'Ship.Date', 'Ship.Mode', 'Shipping.Cost', 'State',\n",
       "       'Sub.Category', 'Year', 'Market2', 'weeknum'],\n",
       "      dtype='object')"
      ]
     },
     "execution_count": 18,
     "metadata": {},
     "output_type": "execute_result"
    }
   ],
   "source": [
    "#verificando as colunas do dataframe\n",
    "sales_pd.columns"
   ]
  },
  {
   "cell_type": "code",
   "execution_count": 19,
   "metadata": {},
   "outputs": [
    {
     "name": "stdout",
     "output_type": "stream",
     "text": [
      "     Region Sub.Category  Sales\n",
      "0    Africa  Accessories  42178\n",
      "1    Africa   Appliances  62196\n",
      "2    Africa          Art  38433\n",
      "3    Africa      Binders  22308\n",
      "4    Africa    Bookcases  83457\n",
      "..      ...          ...    ...\n",
      "216    West        Paper  26664\n",
      "217    West       Phones  98698\n",
      "218    West      Storage  70540\n",
      "219    West     Supplies  18126\n",
      "220    West       Tables  84755\n",
      "\n",
      "[221 rows x 3 columns]\n"
     ]
    }
   ],
   "source": [
    "#agrupando vendas(sales) por região (region e sub-categoria(sub-category)\n",
    "vendas_agrupadas = sales_pd.groupby(['Region', 'Sub.Category'])['Sales'].sum().reset_index()\n",
    "print(vendas_agrupadas)"
   ]
  },
  {
   "cell_type": "markdown",
   "metadata": {},
   "source": [
    "#### b - Calcule o total de vendas e o lucro médio (Profit) para cada combinação de região e subcategoria."
   ]
  },
  {
   "cell_type": "code",
   "execution_count": 20,
   "metadata": {},
   "outputs": [
    {
     "name": "stdout",
     "output_type": "stream",
     "text": [
      "     Region Sub.Category  Total_Sales  Lucro_Medio\n",
      "0    Africa  Accessories        42178    27.923198\n",
      "1    Africa   Appliances        62196    25.138808\n",
      "2    Africa          Art        38433     6.425288\n",
      "3    Africa      Binders        22308     4.344402\n",
      "4    Africa    Bookcases        83457    36.555704\n",
      "..      ...          ...          ...          ...\n",
      "216    West        Paper        26664    26.931636\n",
      "217    West       Phones        98698    32.890768\n",
      "218    West      Storage        70540    32.501211\n",
      "219    West     Supplies        18126     9.073138\n",
      "220    West       Tables        84755    12.781097\n",
      "\n",
      "[221 rows x 4 columns]\n"
     ]
    }
   ],
   "source": [
    "dados_agregados = sales_pd.groupby(['Region', 'Sub.Category']).agg(\n",
    "    Total_Sales = ('Sales', 'sum'),\n",
    "    Lucro_Medio = ('Profit', 'mean')\n",
    ").reset_index()\n",
    "\n",
    "print(dados_agregados)"
   ]
  },
  {
   "cell_type": "markdown",
   "metadata": {},
   "source": [
    "#### c - Filtre apenas as combinações onde o lucro médio seja positivo."
   ]
  },
  {
   "cell_type": "code",
   "execution_count": 23,
   "metadata": {},
   "outputs": [
    {
     "name": "stdout",
     "output_type": "stream",
     "text": [
      "     Region Sub.Category  Total_Sales  Lucro_Medio\n",
      "0    Africa  Accessories        42178    27.923198\n",
      "1    Africa   Appliances        62196    25.138808\n",
      "2    Africa          Art        38433     6.425288\n",
      "3    Africa      Binders        22308     4.344402\n",
      "4    Africa    Bookcases        83457    36.555704\n",
      "..      ...          ...          ...          ...\n",
      "216    West        Paper        26664    26.931636\n",
      "217    West       Phones        98698    32.890768\n",
      "218    West      Storage        70540    32.501211\n",
      "219    West     Supplies        18126     9.073138\n",
      "220    West       Tables        84755    12.781097\n",
      "\n",
      "[199 rows x 4 columns]\n"
     ]
    }
   ],
   "source": [
    "#Filtrar apenas as combinações com lucro médio positivo\n",
    "lucro_positivo = dados_agregados[dados_agregados['Lucro_Medio'] > 0]\n",
    "print(lucro_positivo)"
   ]
  },
  {
   "cell_type": "markdown",
   "metadata": {},
   "source": [
    "#### d - Ordene o resultado por região e lucro médio em ordem decrescente. Retorne o DataFrame final."
   ]
  },
  {
   "cell_type": "code",
   "execution_count": 25,
   "metadata": {},
   "outputs": [
    {
     "name": "stdout",
     "output_type": "stream",
     "text": [
      "     Region Sub.Category  Total_Sales  Lucro_Medio\n",
      "16   Africa       Tables        34531   108.396892\n",
      "6    Africa      Copiers        96257    68.003068\n",
      "13   Africa       Phones       114830    66.520917\n",
      "4    Africa    Bookcases        83457    36.555704\n",
      "11   Africa     Machines        69109    28.734855\n",
      "..      ...          ...          ...          ...\n",
      "209    West       Chairs       101786    19.456929\n",
      "220    West       Tables        84755    12.781097\n",
      "206    West          Art         9214     9.496388\n",
      "219    West     Supplies        18126     9.073138\n",
      "212    West    Fasteners          923     3.822093\n",
      "\n",
      "[199 rows x 4 columns]\n"
     ]
    }
   ],
   "source": [
    "#Ordenar por Região e Lucro Médio em ordem decrescente\n",
    "dados_ordenados = lucro_positivo.sort_values(\n",
    "    by=['Region', 'Lucro_Medio'], ascending=[True, False]\n",
    ")\n",
    "\n",
    "# Exibir o DataFrame final\n",
    "print(dados_ordenados)"
   ]
  },
  {
   "cell_type": "markdown",
   "metadata": {},
   "source": [
    "# Questão 3"
   ]
  },
  {
   "cell_type": "markdown",
   "metadata": {},
   "source": [
    "## Usando o dataset \"Titanic - Machine Learning from Disaster\", escreva um código que:"
   ]
  },
  {
   "cell_type": "markdown",
   "metadata": {},
   "source": [
    "#### a - Preencha os valores ausentes na coluna Age com a média das idades."
   ]
  },
  {
   "cell_type": "code",
   "execution_count": 27,
   "metadata": {},
   "outputs": [
    {
     "name": "stdout",
     "output_type": "stream",
     "text": [
      "<class 'pandas.core.frame.DataFrame'>\n",
      "RangeIndex: 891 entries, 0 to 890\n",
      "Data columns (total 15 columns):\n",
      " #   Column       Non-Null Count  Dtype   \n",
      "---  ------       --------------  -----   \n",
      " 0   survived     891 non-null    int64   \n",
      " 1   pclass       891 non-null    int64   \n",
      " 2   sex          891 non-null    object  \n",
      " 3   age          714 non-null    float64 \n",
      " 4   sibsp        891 non-null    int64   \n",
      " 5   parch        891 non-null    int64   \n",
      " 6   fare         891 non-null    float64 \n",
      " 7   embarked     889 non-null    object  \n",
      " 8   class        891 non-null    category\n",
      " 9   who          891 non-null    object  \n",
      " 10  adult_male   891 non-null    bool    \n",
      " 11  deck         203 non-null    category\n",
      " 12  embark_town  889 non-null    object  \n",
      " 13  alive        891 non-null    object  \n",
      " 14  alone        891 non-null    bool    \n",
      "dtypes: bool(2), category(2), float64(2), int64(4), object(5)\n",
      "memory usage: 80.7+ KB\n",
      "None\n"
     ]
    }
   ],
   "source": [
    "#carregando o dataset do titanic pelo seaborn\n",
    "titanic = sns.load_dataset('titanic')\n",
    "print(titanic.info())"
   ]
  },
  {
   "cell_type": "code",
   "execution_count": 29,
   "metadata": {},
   "outputs": [
    {
     "name": "stdout",
     "output_type": "stream",
     "text": [
      "<class 'pandas.core.frame.DataFrame'>\n",
      "RangeIndex: 891 entries, 0 to 890\n",
      "Data columns (total 15 columns):\n",
      " #   Column       Non-Null Count  Dtype   \n",
      "---  ------       --------------  -----   \n",
      " 0   survived     891 non-null    int64   \n",
      " 1   pclass       891 non-null    int64   \n",
      " 2   sex          891 non-null    object  \n",
      " 3   age          891 non-null    float64 \n",
      " 4   sibsp        891 non-null    int64   \n",
      " 5   parch        891 non-null    int64   \n",
      " 6   fare         891 non-null    float64 \n",
      " 7   embarked     889 non-null    object  \n",
      " 8   class        891 non-null    category\n",
      " 9   who          891 non-null    object  \n",
      " 10  adult_male   891 non-null    bool    \n",
      " 11  deck         203 non-null    category\n",
      " 12  embark_town  889 non-null    object  \n",
      " 13  alive        891 non-null    object  \n",
      " 14  alone        891 non-null    bool    \n",
      "dtypes: bool(2), category(2), float64(2), int64(4), object(5)\n",
      "memory usage: 80.7+ KB\n",
      "None\n"
     ]
    }
   ],
   "source": [
    "#Calcular a média da coluna 'Age'\n",
    "age_mean = titanic['age'].mean()\n",
    "\n",
    "#Preencher os valores ausentes na coluna 'Age' com a média\n",
    "titanic['age'] = titanic['age'].fillna(age_mean)\n",
    "print(titanic.info())"
   ]
  },
  {
   "cell_type": "markdown",
   "metadata": {},
   "source": [
    "#### b - Crie uma nova coluna chamada Fare_Per_Age, que seja o valor da tarifa (Fare) dividido pela idade do passageiro."
   ]
  },
  {
   "cell_type": "code",
   "execution_count": 31,
   "metadata": {},
   "outputs": [
    {
     "name": "stdout",
     "output_type": "stream",
     "text": [
      "   survived  pclass     sex   age  sibsp  parch     fare embarked  class  \\\n",
      "0         0       3    male  22.0      1      0   7.2500        S  Third   \n",
      "1         1       1  female  38.0      1      0  71.2833        C  First   \n",
      "2         1       3  female  26.0      0      0   7.9250        S  Third   \n",
      "3         1       1  female  35.0      1      0  53.1000        S  First   \n",
      "4         0       3    male  35.0      0      0   8.0500        S  Third   \n",
      "\n",
      "     who  adult_male deck  embark_town alive  alone  Fare_Per_Age  \n",
      "0    man        True  NaN  Southampton    no  False      0.329545  \n",
      "1  woman       False    C    Cherbourg   yes  False      1.875876  \n",
      "2  woman       False  NaN  Southampton   yes   True      0.304808  \n",
      "3  woman       False    C  Southampton   yes  False      1.517143  \n",
      "4    man        True  NaN  Southampton    no   True      0.230000  \n"
     ]
    }
   ],
   "source": [
    "titanic['Fare_Per_Age'] = titanic['fare'] / titanic['age']\n",
    "print(titanic.head())"
   ]
  },
  {
   "cell_type": "markdown",
   "metadata": {},
   "source": [
    "#### c - Filtre apenas os passageiros da classe 1 (Pclass == 1) cujo valor de Fare_Per_Age esteja acima do terceiro quartil dessa coluna. Retorne o DataFrame resultante."
   ]
  },
  {
   "cell_type": "code",
   "execution_count": 33,
   "metadata": {},
   "outputs": [],
   "source": [
    "#Calcular o terceiro quartil (Q3) da coluna 'Fare_Per_Age'\n",
    "terceiro_quartil = titanic['Fare_Per_Age'].quantile(0.75)"
   ]
  },
  {
   "cell_type": "code",
   "execution_count": 34,
   "metadata": {},
   "outputs": [
    {
     "name": "stdout",
     "output_type": "stream",
     "text": [
      "     survived  pclass     sex        age  sibsp  parch      fare embarked  \\\n",
      "1           1       1  female  38.000000      1      0   71.2833        C   \n",
      "3           1       1  female  35.000000      1      0   53.1000        S   \n",
      "27          0       1    male  19.000000      3      2  263.0000        S   \n",
      "31          1       1  female  29.699118      1      0  146.5208        C   \n",
      "34          0       1    male  28.000000      1      0   82.1708        C   \n",
      "..        ...     ...     ...        ...    ...    ...       ...      ...   \n",
      "853         1       1  female  16.000000      0      1   39.4000        S   \n",
      "856         1       1  female  45.000000      1      1  164.8667        S   \n",
      "867         0       1    male  31.000000      0      0   50.4958        S   \n",
      "879         1       1  female  56.000000      0      1   83.1583        C   \n",
      "887         1       1  female  19.000000      0      0   30.0000        S   \n",
      "\n",
      "     class    who  adult_male deck  embark_town alive  alone  Fare_Per_Age  \n",
      "1    First  woman       False    C    Cherbourg   yes  False      1.875876  \n",
      "3    First  woman       False    C  Southampton   yes  False      1.517143  \n",
      "27   First    man        True    C  Southampton    no  False     13.842105  \n",
      "31   First  woman       False    B    Cherbourg   yes  False      4.933507  \n",
      "34   First    man        True  NaN    Cherbourg    no  False      2.934671  \n",
      "..     ...    ...         ...  ...          ...   ...    ...           ...  \n",
      "853  First  woman       False    D  Southampton   yes  False      2.462500  \n",
      "856  First  woman       False  NaN  Southampton   yes  False      3.663704  \n",
      "867  First    man        True    A  Southampton    no   True      1.628897  \n",
      "879  First  woman       False    C    Cherbourg   yes  False      1.484970  \n",
      "887  First  woman       False    B  Southampton   yes   True      1.578947  \n",
      "\n",
      "[127 rows x 16 columns]\n"
     ]
    }
   ],
   "source": [
    "#Filtrar os passageiros da classe 1 cujo 'Fare_Per_Age' está acima do terceiro quartil\n",
    "filtered_data = titanic[(titanic['pclass'] == 1) & (titanic['Fare_Per_Age'] > terceiro_quartil)]\n",
    "print(filtered_data)"
   ]
  },
  {
   "cell_type": "markdown",
   "metadata": {},
   "source": [
    "# Questão 4"
   ]
  },
  {
   "cell_type": "markdown",
   "metadata": {},
   "source": [
    "#### a - Calcule a média de preço (price) por bairro (neighbourhood_group)."
   ]
  },
  {
   "cell_type": "markdown",
   "metadata": {},
   "source": [
    "#### b - Filtre os bairros onde o preço médio seja maior que a média geral do dataset."
   ]
  },
  {
   "cell_type": "markdown",
   "metadata": {},
   "source": [
    "#### c - Crie uma nova coluna chamada Price_Per_Room, que divida o preço pelo número de quartos (minimum_nights)."
   ]
  },
  {
   "cell_type": "markdown",
   "metadata": {},
   "source": [
    "#### d - Encontre o bairro com o maior valor médio de Price_Per_Room."
   ]
  },
  {
   "cell_type": "markdown",
   "metadata": {},
   "source": [
    "#### e - Retorne o nome do bairro e o valor médio correspondente."
   ]
  },
  {
   "cell_type": "markdown",
   "metadata": {},
   "source": [
    "# Questão 5"
   ]
  },
  {
   "cell_type": "markdown",
   "metadata": {},
   "source": [
    "## Utilize o dataset \"World Happiness Report\" e escreva um código que:"
   ]
  },
  {
   "cell_type": "markdown",
   "metadata": {},
   "source": [
    "#### a - agrupe os países por continente e calcule a média de Happiness Score e GDP per Capita;"
   ]
  },
  {
   "cell_type": "markdown",
   "metadata": {},
   "source": [
    "#### b - crie uma nova coluna chamada Happiness_to_GDP_Ratio, que seja a razão entre o Happiness Score e o GDP per Capita;"
   ]
  },
  {
   "cell_type": "markdown",
   "metadata": {},
   "source": [
    "#### c - filtre os continentes onde a razão média seja maior que 1;"
   ]
  },
  {
   "cell_type": "markdown",
   "metadata": {},
   "source": [
    "#### d - ordene os resultados por Happiness_to_GDP_Ratio em ordem decrescente;"
   ]
  },
  {
   "cell_type": "markdown",
   "metadata": {},
   "source": [
    "#### e - retorne o Dataframe Final"
   ]
  }
 ],
 "metadata": {
  "kernelspec": {
   "display_name": "Python 3",
   "language": "python",
   "name": "python3"
  },
  "language_info": {
   "codemirror_mode": {
    "name": "ipython",
    "version": 3
   },
   "file_extension": ".py",
   "mimetype": "text/x-python",
   "name": "python",
   "nbconvert_exporter": "python",
   "pygments_lexer": "ipython3",
   "version": "3.12.3"
  }
 },
 "nbformat": 4,
 "nbformat_minor": 2
}
